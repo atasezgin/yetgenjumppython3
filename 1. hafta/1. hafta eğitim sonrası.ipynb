{
 "cells": [
  {
   "attachments": {},
   "cell_type": "markdown",
   "metadata": {},
   "source": [
    "# **1.Hafta eğitim sonrası**\n",
    "![Image](https://yetkingencler.com/wp-content/uploads/2021/07/YetGenLogo.png)\n"
   ]
  }
 ],
 "metadata": {
  "kernelspec": {
   "display_name": "Python 3",
   "language": "python",
   "name": "python3"
  },
  "language_info": {
   "name": "python",
   "version": "3.10.10"
  },
  "orig_nbformat": 4,
  "vscode": {
   "interpreter": {
    "hash": "8515f4bfc67993a830ba07bfb919a3c1682b2c372a4e342caad825dcb7e99ca0"
   }
  }
 },
 "nbformat": 4,
 "nbformat_minor": 2
}
