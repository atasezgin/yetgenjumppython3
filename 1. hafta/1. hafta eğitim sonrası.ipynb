{
 "cells": [
  {
   "attachments": {},
   "cell_type": "markdown",
   "metadata": {},
   "source": [
    "# **1.Hafta eğitim sonrası**\n",
    "![Image](https://yetkingencler.com/wp-content/uploads/2021/07/YetGenLogo.png)\n"
   ]
  }
 ],
 "metadata": {
  "kernelspec": {
   "display_name": "Python 3",
   "language": "python",
   "name": "python3"
  },
  "language_info": {
   "name": "python",
   "version": "3.10.9 (tags/v3.10.9:1dd9be6, Dec  6 2022, 20:01:21) [MSC v.1934 64 bit (AMD64)]"
  },
  "orig_nbformat": 4,
  "vscode": {
   "interpreter": {
    "hash": "8515f4bfc67993a830ba07bfb919a3c1682b2c372a4e342caad825dcb7e99ca0"
   }
  }
 },
 "nbformat": 4,
 "nbformat_minor": 2
}
